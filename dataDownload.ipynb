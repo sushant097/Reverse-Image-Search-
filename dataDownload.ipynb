{
 "cells": [
  {
   "cell_type": "markdown",
   "metadata": {},
   "source": [
    "# Reverse Image Search "
   ]
  },
  {
   "cell_type": "markdown",
   "metadata": {},
   "source": [
    "## Download Datasets\n",
    "\n",
    "Note that there is a 102nd category called ‘BACKGROUND_Google’ consisting of random images not contained in the first 101 categories, which needs to be deleted before we start experimenting."
   ]
  },
  {
   "cell_type": "code",
   "execution_count": 3,
   "metadata": {},
   "outputs": [
    {
     "name": "stdout",
     "output_type": "stream",
     "text": [
      "Collecting gdown\n",
      "  Downloading https://files.pythonhosted.org/packages/54/e9/689f86828abda8413d7b39dec64a3614df90dbf29e80df8aea5207abca45/gdown-4.2.0.tar.gz\n",
      "  Installing build dependencies: started\n",
      "  Installing build dependencies: finished with status 'done'\n",
      "  Getting requirements to build wheel: started\n",
      "  Getting requirements to build wheel: finished with status 'done'\n",
      "    Preparing wheel metadata: started\n",
      "    Preparing wheel metadata: finished with status 'done'\n",
      "Requirement already satisfied: tqdm in c:\\users\\sushantgautam\\appdata\\local\\conda\\conda\\envs\\tensorflow2\\lib\\site-packages (from gdown) (4.48.2)\n",
      "Requirement already satisfied: requests[socks] in c:\\users\\sushantgautam\\appdata\\local\\conda\\conda\\envs\\tensorflow2\\lib\\site-packages (from gdown) (2.22.0)\n",
      "Collecting filelock\n",
      "  Downloading https://files.pythonhosted.org/packages/e8/3b/b59c7bcacc4cccafcd6e927a9e191268657e79a0a75530132cbf03b22c47/filelock-3.4.0-py3-none-any.whl\n",
      "Requirement already satisfied: beautifulsoup4 in c:\\users\\sushantgautam\\appdata\\local\\conda\\conda\\envs\\tensorflow2\\lib\\site-packages (from gdown) (4.9.1)\n",
      "Requirement already satisfied: six in c:\\users\\sushantgautam\\appdata\\local\\conda\\conda\\envs\\tensorflow2\\lib\\site-packages (from gdown) (1.13.0)\n",
      "Requirement already satisfied: certifi>=2017.4.17 in c:\\users\\sushantgautam\\appdata\\local\\conda\\conda\\envs\\tensorflow2\\lib\\site-packages (from requests[socks]->gdown) (2019.11.28)\n",
      "Requirement already satisfied: idna<2.9,>=2.5 in c:\\users\\sushantgautam\\appdata\\local\\conda\\conda\\envs\\tensorflow2\\lib\\site-packages (from requests[socks]->gdown) (2.8)\n",
      "Requirement already satisfied: chardet<3.1.0,>=3.0.2 in c:\\users\\sushantgautam\\appdata\\local\\conda\\conda\\envs\\tensorflow2\\lib\\site-packages (from requests[socks]->gdown) (3.0.4)\n",
      "Requirement already satisfied: urllib3!=1.25.0,!=1.25.1,<1.26,>=1.21.1 in c:\\users\\sushantgautam\\appdata\\local\\conda\\conda\\envs\\tensorflow2\\lib\\site-packages (from requests[socks]->gdown) (1.25.7)\n",
      "Collecting PySocks!=1.5.7,>=1.5.6; extra == \"socks\"\n",
      "  Downloading https://files.pythonhosted.org/packages/8d/59/b4572118e098ac8e46e399a1dd0f2d85403ce8bbaad9ec79373ed6badaf9/PySocks-1.7.1-py3-none-any.whl\n",
      "Requirement already satisfied: soupsieve>1.2 in c:\\users\\sushantgautam\\appdata\\local\\conda\\conda\\envs\\tensorflow2\\lib\\site-packages (from beautifulsoup4->gdown) (2.0.1)\n",
      "Building wheels for collected packages: gdown\n",
      "  Building wheel for gdown (PEP 517): started\n",
      "  Building wheel for gdown (PEP 517): finished with status 'done'\n",
      "  Created wheel for gdown: filename=gdown-4.2.0-cp36-none-any.whl size=14262 sha256=11e37cfe7ea4e571fceea360712ba8119c034876521e8a41bb7900506c169bf3\n",
      "  Stored in directory: C:\\Users\\SushantGautam\\AppData\\Local\\pip\\Cache\\wheels\\5a\\09\\18\\087d477049b02b85b6f1087577d91e113f8a635ae4127ec35d\n",
      "Successfully built gdown\n",
      "Installing collected packages: filelock, gdown, PySocks\n",
      "Successfully installed PySocks-1.7.1 filelock-3.4.0 gdown-4.2.0\n"
     ]
    }
   ],
   "source": [
    "!pip install gdown"
   ]
  },
  {
   "cell_type": "code",
   "execution_count": null,
   "metadata": {},
   "outputs": [],
   "source": [
    "# following code download datasets\n",
    "!mkdir -p datasets\n",
    "!gdown https://drive.google.com/uc?id=137RyRjvTBkBiIfeYBNZBtViDHQ6_Ewsp --output datasets/caltech101.tar.gz\n",
    "!tar -xvzf datasets/caltech101.tar.gz --directory datasets\n",
    "!mv datasets/101_ObjectCategories datasets/caltech101\n",
    "!rm -rf datasets/caltech101/BACKGROUND_Google"
   ]
  },
  {
   "cell_type": "code",
   "execution_count": null,
   "metadata": {},
   "outputs": [],
   "source": [
    "# download pre-trained models, if you need\n",
    "!gdown https://drive.google.com/uc?id=1qGyxDpJgPXE9sNdrEr-N78nEM7kNFBvt \n",
    "# !mkdir data # if not data directory created already\n",
    "!unzip data.zip --directory data"
   ]
  },
  {
   "cell_type": "code",
   "execution_count": null,
   "metadata": {},
   "outputs": [],
   "source": []
  }
 ],
 "metadata": {
  "kernelspec": {
   "display_name": "tensorflow2",
   "language": "python",
   "name": "tensorflow2"
  },
  "language_info": {
   "codemirror_mode": {
    "name": "ipython",
    "version": 3
   },
   "file_extension": ".py",
   "mimetype": "text/x-python",
   "name": "python",
   "nbconvert_exporter": "python",
   "pygments_lexer": "ipython3",
   "version": "3.6.9"
  }
 },
 "nbformat": 4,
 "nbformat_minor": 2
}
